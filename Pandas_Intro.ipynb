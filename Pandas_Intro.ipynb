{
  "nbformat": 4,
  "nbformat_minor": 0,
  "metadata": {
    "colab": {
      "name": "Pandas Intro.ipynb",
      "provenance": [],
      "collapsed_sections": [],
      "include_colab_link": true
    },
    "kernelspec": {
      "name": "python3",
      "display_name": "Python 3"
    }
  },
  "cells": [
    {
      "cell_type": "markdown",
      "metadata": {
        "id": "view-in-github",
        "colab_type": "text"
      },
      "source": [
        "<a href=\"https://colab.research.google.com/github/dipanshawucr/NLP/blob/main/Pandas_Intro.ipynb\" target=\"_parent\"><img src=\"https://colab.research.google.com/assets/colab-badge.svg\" alt=\"Open In Colab\"/></a>"
      ]
    },
    {
      "cell_type": "markdown",
      "metadata": {
        "id": "8GLCM_xrxJdc"
      },
      "source": [
        "Let's start by importing Pandas. Click on a cell to activate it. Press Shift + Enter to execute. Cells should be executed in order."
      ]
    },
    {
      "cell_type": "code",
      "metadata": {
        "id": "U_5zMEGZL96I"
      },
      "source": [
        "import pandas as pd"
      ],
      "execution_count": null,
      "outputs": []
    },
    {
      "cell_type": "markdown",
      "metadata": {
        "id": "7qQ1n2fkx234"
      },
      "source": [
        "## Load / Create Data Frame\n",
        "We can read CSV or excel files to import data. We can also create dataframes programatically like this:"
      ]
    },
    {
      "cell_type": "code",
      "metadata": {
        "id": "yyFj31jcMmH6"
      },
      "source": [
        "df = pd.DataFrame({'Artist':['Billie Holiday','Jimi Hendrix', 'Miles Davis', 'SIA'],\n",
        "              'Genre': ['Jazz', 'Rock', 'Jazz', 'Pop'],\n",
        "              'Listeners': [1300000, 2700000, 1500000, 2000000],\n",
        "              'Plays': [27000000, 70000000, 48000000, 74000000]})"
      ],
      "execution_count": null,
      "outputs": []
    },
    {
      "cell_type": "markdown",
      "metadata": {
        "id": "wXj4OuOrxwJm"
      },
      "source": [
        " The variable `df` now contains a dataframe. Executing this cell shows the contents of the dataframe"
      ]
    },
    {
      "cell_type": "code",
      "metadata": {
        "id": "WF4_LVYOO__m"
      },
      "source": [
        "df"
      ],
      "execution_count": null,
      "outputs": []
    },
    {
      "cell_type": "markdown",
      "metadata": {
        "id": "6LUcXFMKyF6z"
      },
      "source": [
        "## Selection\n",
        "We can select any column using its label:"
      ]
    },
    {
      "cell_type": "code",
      "metadata": {
        "id": "sTNHtQz3Mu_K"
      },
      "source": [
        "df['Artist']"
      ],
      "execution_count": null,
      "outputs": []
    },
    {
      "cell_type": "markdown",
      "metadata": {
        "id": "UeH1ClC3yOJy"
      },
      "source": [
        "We can select one or multiple rows using their numbers (inclusive of both bounding row numbers):"
      ]
    },
    {
      "cell_type": "code",
      "metadata": {
        "id": "41MpPCPwM0AR"
      },
      "source": [
        "df.loc[1:3]"
      ],
      "execution_count": null,
      "outputs": []
    },
    {
      "cell_type": "code",
      "metadata": {
        "id": "fhOMUtTNPnc0"
      },
      "source": [
        "# Exercise: Select only row #0\n",
        "\n"
      ],
      "execution_count": null,
      "outputs": []
    },
    {
      "cell_type": "markdown",
      "metadata": {
        "id": "7eeFjuAUyTDj"
      },
      "source": [
        "We can select any slice of the table using a both column label and row numbers using loc:"
      ]
    },
    {
      "cell_type": "code",
      "metadata": {
        "id": "p7EPN96RPHQt"
      },
      "source": [
        "df.loc[1:3,['Artist']]"
      ],
      "execution_count": null,
      "outputs": []
    },
    {
      "cell_type": "code",
      "metadata": {
        "id": "ov_6TtCvPubJ"
      },
      "source": [
        "# Exercise: Select 'Artist' and 'Plays' for rows #1 and #2\n"
      ],
      "execution_count": null,
      "outputs": []
    },
    {
      "cell_type": "markdown",
      "metadata": {
        "id": "GeuS62DoyXlJ"
      },
      "source": [
        "## Filtering\n",
        "Now it gets more interesting. We can easily filter rows using the values of a specific row. For example, here are our jazz musicians:"
      ]
    },
    {
      "cell_type": "code",
      "metadata": {
        "id": "ax8qDMHfPQmP"
      },
      "source": [
        "df[df['Genre'] == \"Jazz\" ]"
      ],
      "execution_count": null,
      "outputs": []
    },
    {
      "cell_type": "code",
      "metadata": {
        "id": "Surgh6XVRmlT"
      },
      "source": [
        "# Exercise: Select the row where the Genre is 'Rock'\n",
        "\n"
      ],
      "execution_count": null,
      "outputs": []
    },
    {
      "cell_type": "markdown",
      "metadata": {
        "id": "a33J488lyeFj"
      },
      "source": [
        "Here are the artists who have more than 1,800,000 listeners:"
      ]
    },
    {
      "cell_type": "code",
      "metadata": {
        "id": "H1Ld-RXQPTLL"
      },
      "source": [
        "df[df['Listeners'] > 1800000 ]"
      ],
      "execution_count": null,
      "outputs": []
    },
    {
      "cell_type": "code",
      "metadata": {
        "id": "8XLaLBKORva4"
      },
      "source": [
        "# Exercise: Select the rows where 'Plays' is less than 50,000,000\n",
        "\n"
      ],
      "execution_count": null,
      "outputs": []
    },
    {
      "cell_type": "markdown",
      "metadata": {
        "id": "MPeYsXStyuwA"
      },
      "source": [
        "## Grouping"
      ]
    },
    {
      "cell_type": "code",
      "metadata": {
        "id": "qPG_jFSdPMF5"
      },
      "source": [
        "df.groupby('Genre').sum()"
      ],
      "execution_count": null,
      "outputs": []
    },
    {
      "cell_type": "code",
      "metadata": {
        "id": "kb5smli-PVE3"
      },
      "source": [
        "# Exercise: Group by Genre, use mean() as the aggregation function \n"
      ],
      "execution_count": null,
      "outputs": []
    },
    {
      "cell_type": "code",
      "metadata": {
        "id": "g2IFgCF4Rg48"
      },
      "source": [
        "# Exercise: Group by Genre, use max() as the aggregation function \n"
      ],
      "execution_count": null,
      "outputs": []
    }
  ]
}